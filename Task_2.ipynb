{
 "cells": [
  {
   "cell_type": "markdown",
   "id": "417d9f3e",
   "metadata": {},
   "source": [
    "### Problem Statement"
   ]
  },
  {
   "cell_type": "raw",
   "id": "5c5f268d",
   "metadata": {},
   "source": [
    "Detects the number of persons and bags in the image/video & displays the total count of the persons.\n",
    "You can use any object detection method. (Yolo preferred)\n",
    "Submit the code logic and output image/videos.    "
   ]
  },
  {
   "cell_type": "markdown",
   "id": "e04dab3f",
   "metadata": {},
   "source": [
    "### Solution"
   ]
  },
  {
   "cell_type": "code",
   "execution_count": 5,
   "id": "d4cedca3",
   "metadata": {},
   "outputs": [
    {
     "name": "stderr",
     "output_type": "stream",
     "text": [
      "Using cache found in C:\\Users\\suyog/.cache\\torch\\hub\\ultralytics_yolov5_master\n",
      "YOLOv5  2023-6-13 Python-3.9.13 torch-2.0.1+cpu CPU\n",
      "\n",
      "Fusing layers... \n",
      "YOLOv5s summary: 213 layers, 7225885 parameters, 0 gradients\n",
      "Adding AutoShape... \n"
     ]
    }
   ],
   "source": [
    "#Required Libraries:\n",
    "import cv2\n",
    "import torch\n",
    "import numpy as np\n",
    "import imageio\n",
    "import warnings\n",
    "warnings.filterwarnings(\"ignore\")\n",
    "\n",
    "# Loading the YOLOv5 model\n",
    "model = torch.hub.load('ultralytics/yolov5', 'yolov5s', pretrained=True)\n",
    "\n",
    "# Loading the input video\n",
    "cap = cv2.VideoCapture('video_people.mp4')\n",
    "\n",
    "# Defining the detection areas\n",
    "area_1 = [(1, 1), (720, 1), (720, 400), (1, 400)]\n",
    "\n",
    "# Initializing required variables\n",
    "person_dict = {}  # To store unique person IDs and their counts\n",
    "person_count = 0  # Incremental count for persons\n",
    "proximity_threshold = 45  # Set the proximity threshold for person detection\n",
    "frame_counter = 0  # Counter to skip frames\n",
    "frame_skip = 2  # Process every 2nd frame\n",
    "\n",
    "# Getting input video details\n",
    "fps = cap.get(cv2.CAP_PROP_FPS)\n",
    "width = int(cap.get(cv2.CAP_PROP_FRAME_WIDTH))\n",
    "height = int(cap.get(cv2.CAP_PROP_FRAME_HEIGHT))\n",
    "\n",
    "# Creating video writer object\n",
    "output_file = 'output_video.mp4'\n",
    "out = imageio.get_writer(output_file, format='FFMPEG', mode='I', fps=fps)\n",
    "\n",
    "# Creating Main loop for processing video frames\n",
    "while True:\n",
    "    ret, frame = cap.read()\n",
    "\n",
    "    frame_counter += 1\n",
    "    if frame_counter % frame_skip != 0:\n",
    "        continue\n",
    "\n",
    "    if not ret:\n",
    "        break\n",
    "\n",
    "    # Resizing frame\n",
    "    frame = cv2.resize(frame, (720, 400))\n",
    "    cv2.polylines(frame, [np.array(area_1, np.int32)], True, (0, 255, 0), 2)\n",
    "\n",
    "    # Applying Model\n",
    "    results = model(frame)\n",
    "\n",
    "    for index, row in results.pandas().xyxy[0].iterrows():\n",
    "        x1 = int(row[\"xmin\"])\n",
    "        y1 = int(row[\"ymin\"])\n",
    "        x2 = int(row[\"xmax\"])\n",
    "        y2 = int(row[\"ymax\"])\n",
    "        label = row[\"name\"]\n",
    "\n",
    "        if label == \"person\":\n",
    "            result = cv2.pointPolygonTest(np.array(area_1, np.int32), (x1, y1), False)\n",
    "            if result > 0:\n",
    "                centroid_x = (x1 + x2) // 2\n",
    "                centroid_y = (y1 + y2) // 2\n",
    "                person_id = (centroid_x, centroid_y)\n",
    "\n",
    "                person_detected = False\n",
    "                for prev_person_id in person_dict.keys():\n",
    "                    prev_centroid_x, prev_centroid_y = prev_person_id\n",
    "                    distance = np.sqrt((prev_centroid_x - centroid_x) ** 2 + (prev_centroid_y - centroid_y) ** 2)\n",
    "                    if distance < proximity_threshold:\n",
    "                        person_detected = True\n",
    "                        person_id = prev_person_id  # Updating person ID based on proximity\n",
    "                        break\n",
    "\n",
    "                if not person_detected:\n",
    "                    if person_id not in person_dict:  # Checking if the person is already counted\n",
    "                        person_dict[person_id] = person_count  # Adding person ID to the dictionary with count\n",
    "                        person_count += 1  # Increment the person count\n",
    "\n",
    "                cv2.rectangle(frame, (x1, y1), (x2, y2), (0, 255, 0), 2)  # Drawing rectangle around detected person\n",
    "                cv2.putText(frame, f\"Person {person_dict[person_id]}\", (x1, y1 - 10), cv2.FONT_HERSHEY_SIMPLEX, 0.9,\n",
    "                            (0, 255, 0), 1)  # Display label and ID\n",
    "\n",
    "        elif label in [\"handbag\", \"backpack\"]:\n",
    "            result = cv2.pointPolygonTest(np.array(area_1, np.int32), (x1, y2), False)\n",
    "            if result > 0:\n",
    "                cv2.rectangle(frame, (x1, y1), (x2, y2), (0, 0, 255), 2)  # Draw rectangle around detected bag\n",
    "                cv2.putText(frame, label, (x1, y1 - 10), cv2.FONT_HERSHEY_SIMPLEX, 0.9, (0, 0, 255),\n",
    "                            2)  # Display label for bag\n",
    "\n",
    "    cv2.putText(frame, \"Persons: {}\".format(person_count), (10, 30), cv2.FONT_HERSHEY_SIMPLEX, 1, (0, 0, 255), 2)\n",
    "\n",
    "    cv2.imshow('FRAME', frame)\n",
    "\n",
    "    # Write the processed frame to the output video\n",
    "    out.append_data(frame)\n",
    "\n",
    "    if cv2.waitKey(1) & 0xFF == 27:\n",
    "        break\n",
    "\n",
    "cap.release()\n",
    "out.close()\n",
    "cv2.destroyAllWindows()"
   ]
  }
 ],
 "metadata": {
  "kernelspec": {
   "display_name": "Python 3 (ipykernel)",
   "language": "python",
   "name": "python3"
  },
  "language_info": {
   "codemirror_mode": {
    "name": "ipython",
    "version": 3
   },
   "file_extension": ".py",
   "mimetype": "text/x-python",
   "name": "python",
   "nbconvert_exporter": "python",
   "pygments_lexer": "ipython3",
   "version": "3.9.13"
  }
 },
 "nbformat": 4,
 "nbformat_minor": 5
}
